{
 "cells": [
  {
   "cell_type": "code",
   "execution_count": 5,
   "metadata": {},
   "outputs": [],
   "source": [
    "import numpy as np"
   ]
  },
  {
   "cell_type": "code",
   "execution_count": 6,
   "metadata": {},
   "outputs": [],
   "source": [
    "data = np.array([\n",
    "    -0.39,  0.12,  0.94,  1.67,  1.76,  2.44,  3.72,  4.28,  4.92,  5.53,\n",
    "     0.06,  0.48,  1.01,  1.68,  1.80,  3.25,  4.12,  4.60,  5.28,  6.22\n",
    "])\n",
    "N = data.shape[0]"
   ]
  },
  {
   "cell_type": "code",
   "execution_count": 7,
   "metadata": {},
   "outputs": [],
   "source": [
    "np.random.seed(42)"
   ]
  },
  {
   "cell_type": "markdown",
   "metadata": {},
   "source": [
    "# Randomly choose initial means from data"
   ]
  },
  {
   "cell_type": "code",
   "execution_count": 8,
   "metadata": {},
   "outputs": [],
   "source": [
    "# Number of Gaussian components\n",
    "K = 2\n",
    "mu = np.random.choice(data, K, replace=False)"
   ]
  },
  {
   "cell_type": "code",
   "execution_count": 9,
   "metadata": {},
   "outputs": [
    {
     "name": "stdout",
     "output_type": "stream",
     "text": [
      "Initial means: [-0.39  4.6 ]\n",
      "Initial variances: [3.96777475 3.96777475]\n",
      "Initial mixing coefficients: [0.5 0.5]\n"
     ]
    }
   ],
   "source": [
    "# Initializing variances to the overall variance of the data\n",
    "sigma2 = np.full(K, data.var())\n",
    "\n",
    "# Initializing mixing coefficients equally\n",
    "pi = np.full(K, 1.0 / K)\n",
    "\n",
    "max_iters = 100\n",
    "tol = 1e-6\n",
    "\n",
    "print(\"Initial means:\", mu)\n",
    "print(\"Initial variances:\", sigma2)\n",
    "print(\"Initial mixing coefficients:\", pi)"
   ]
  },
  {
   "cell_type": "markdown",
   "metadata": {},
   "source": [
    "# Gaussian PDF"
   ]
  },
  {
   "cell_type": "code",
   "execution_count": 10,
   "metadata": {},
   "outputs": [],
   "source": [
    "def gaussian(x, mu, var):\n",
    "    return (1 / np.sqrt(2 * np.pi * var)) * np.exp(-0.5 * ((x - mu) ** 2) / var)"
   ]
  },
  {
   "cell_type": "markdown",
   "metadata": {},
   "source": [
    "# EM Loop"
   ]
  },
  {
   "cell_type": "code",
   "execution_count": 11,
   "metadata": {},
   "outputs": [
    {
     "name": "stdout",
     "output_type": "stream",
     "text": [
      "Converged after 23 iterations\n"
     ]
    }
   ],
   "source": [
    "log_likelihood_prev = -np.inf\n",
    "\n",
    "for iteration in range(max_iters):\n",
    "    resp_unnorm = np.zeros((N, K))\n",
    "    for k in range(K):\n",
    "        resp_unnorm[:, k] = pi[k] * gaussian(data, mu[k], sigma2[k])\n",
    "    density = resp_unnorm.sum(axis=1)             \n",
    "    resp = resp_unnorm / density[:, np.newaxis]   \n",
    "\n",
    "    # --- M-step: update parameters ---\n",
    "    N_k = resp.sum(axis=0)                        \n",
    "    mu = (resp * data[:, np.newaxis]).sum(axis=0) / N_k\n",
    "    sigma2 = (resp * (data[:, np.newaxis] - mu) ** 2).sum(axis=0) / N_k\n",
    "    pi = N_k / N                                  \n",
    "\n",
    "    # --- Check convergence via log-likelihood ---\n",
    "    log_likelihood = np.sum(np.log(density))\n",
    "    if abs(log_likelihood - log_likelihood_prev) < tol:\n",
    "        print(f\"Converged after {iteration+1} iterations\")\n",
    "        break\n",
    "    log_likelihood_prev = log_likelihood\n",
    "else:\n",
    "    print(\"Reached maximum iterations without full convergence\")"
   ]
  },
  {
   "cell_type": "markdown",
   "metadata": {},
   "source": [
    "# Results"
   ]
  },
  {
   "cell_type": "code",
   "execution_count": 12,
   "metadata": {},
   "outputs": [
    {
     "name": "stdout",
     "output_type": "stream",
     "text": [
      "Estimated means:      [1.08300458 4.65573178]\n",
      "Estimated variances:  [0.81111563 0.81905761]\n",
      "Mixing coefficients:  [0.55454326 0.44545674]\n"
     ]
    }
   ],
   "source": [
    "print(\"Estimated means:     \", mu)\n",
    "print(\"Estimated variances: \", sigma2)\n",
    "print(\"Mixing coefficients: \", pi)"
   ]
  },
  {
   "cell_type": "code",
   "execution_count": null,
   "metadata": {},
   "outputs": [],
   "source": []
  }
 ],
 "metadata": {
  "kernelspec": {
   "display_name": "Python 3 (ipykernel)",
   "language": "python",
   "name": "python3"
  },
  "language_info": {
   "codemirror_mode": {
    "name": "ipython",
    "version": 3
   },
   "file_extension": ".py",
   "mimetype": "text/x-python",
   "name": "python",
   "nbconvert_exporter": "python",
   "pygments_lexer": "ipython3",
   "version": "3.13.2"
  }
 },
 "nbformat": 4,
 "nbformat_minor": 4
}
