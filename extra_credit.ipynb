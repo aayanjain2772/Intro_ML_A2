{
 "cells": [
  {
   "cell_type": "markdown",
   "metadata": {},
   "source": [
    "# CIFAR-10 Classification with Different Deep Learning Architectures"
   ]
  },
  {
   "cell_type": "code",
   "execution_count": 1,
   "metadata": {},
   "outputs": [
    {
     "data": {
      "text/plain": [
       "<torch._C.Generator at 0x1178dd7d0>"
      ]
     },
     "execution_count": 1,
     "metadata": {},
     "output_type": "execute_result"
    }
   ],
   "source": [
    "import torch\n",
    "import torchvision\n",
    "import torchvision.transforms as transforms\n",
    "import torch.nn as nn\n",
    "import torch.nn.functional as F\n",
    "import torch.optim as optim\n",
    "import matplotlib.pyplot as plt\n",
    "import numpy as np\n",
    "\n",
    "# Set random seed for reproducibility\n",
    "torch.manual_seed(42)"
   ]
  },
  {
   "cell_type": "markdown",
   "metadata": {},
   "source": [
    "## 2. Load CIFAR-10 Dataset"
   ]
  },
  {
   "cell_type": "code",
   "execution_count": 2,
   "metadata": {},
   "outputs": [],
   "source": [
    "# Transform and load dataset\n",
    "transform = transforms.Compose([\n",
    "    transforms.ToTensor(),\n",
    "    transforms.Normalize((0.5, 0.5, 0.5), (0.5, 0.5, 0.5))\n",
    "])\n",
    "\n",
    "trainset = torchvision.datasets.CIFAR10(root='./data', train=True,\n",
    "                                        download=True, transform=transform)\n",
    "trainloader = torch.utils.data.DataLoader(trainset, batch_size=4,\n",
    "                                          shuffle=True, num_workers=2)\n",
    "\n",
    "testset = torchvision.datasets.CIFAR10(root='./data', train=False,\n",
    "                                       download=True, transform=transform)\n",
    "testloader = torch.utils.data.DataLoader(testset, batch_size=4,\n",
    "                                         shuffle=False, num_workers=2)\n",
    "\n",
    "classes = trainset.classes"
   ]
  },
  {
   "cell_type": "markdown",
   "metadata": {},
   "source": [
    "## 3. Define Models"
   ]
  },
  {
   "cell_type": "code",
   "execution_count": 3,
   "metadata": {},
   "outputs": [],
   "source": [
    "# Model 1: Logistic Regression\n",
    "class LogisticRegression(nn.Module):\n",
    "    def __init__(self):\n",
    "        super(LogisticRegression, self).__init__()\n",
    "        self.fc = nn.Linear(32 * 32 * 3, 10)\n",
    "\n",
    "    def forward(self, x):\n",
    "        x = x.view(-1, 32 * 32 * 3)\n",
    "        return self.fc(x)\n",
    "\n",
    "# Model 2: One Hidden Layer Fully Connected\n",
    "class OneHiddenLayerNN(nn.Module):\n",
    "    def __init__(self, hidden_size=512):\n",
    "        super(OneHiddenLayerNN, self).__init__()\n",
    "        self.fc1 = nn.Linear(32 * 32 * 3, hidden_size)\n",
    "        self.fc2 = nn.Linear(hidden_size, 10)\n",
    "\n",
    "    def forward(self, x):\n",
    "        x = x.view(-1, 32 * 32 * 3)\n",
    "        x = F.relu(self.fc1(x))\n",
    "        return self.fc2(x)\n",
    "\n",
    "# Model 3: CNN with one Conv Layer + MaxPool\n",
    "class ConvNet(nn.Module):\n",
    "    def __init__(self, out_channels=100, kernel_size=5, pool_size=14):\n",
    "        super(ConvNet, self).__init__()\n",
    "        self.conv1 = nn.Conv2d(3, out_channels, kernel_size)\n",
    "        self.pool = nn.MaxPool2d(pool_size)\n",
    "        self.fc = nn.Linear(out_channels * 3 * 3, 10)\n",
    "\n",
    "    def forward(self, x):\n",
    "        x = self.pool(F.relu(self.conv1(x)))\n",
    "        x = x.view(-1, x.numel() // x.size(0))\n",
    "        return self.fc(x)"
   ]
  },
  {
   "cell_type": "markdown",
   "metadata": {},
   "source": [
    "## 4. Training Function"
   ]
  },
  {
   "cell_type": "code",
   "execution_count": 4,
   "metadata": {},
   "outputs": [],
   "source": [
    "def train_model(model, optimizer, criterion, trainloader, testloader, epochs=10):\n",
    "    train_acc, test_acc = [], []\n",
    "    for epoch in range(epochs):\n",
    "        correct, total = 0, 0\n",
    "        model.train()\n",
    "        for inputs, labels in trainloader:\n",
    "            optimizer.zero_grad()\n",
    "            outputs = model(inputs)\n",
    "            loss = criterion(outputs, labels)\n",
    "            loss.backward()\n",
    "            optimizer.step()\n",
    "            _, predicted = torch.max(outputs, 1)\n",
    "            total += labels.size(0)\n",
    "            correct += (predicted == labels).sum().item()\n",
    "        acc = 100 * correct / total\n",
    "        train_acc.append(acc)\n",
    "        print(f'Epoch {epoch+1}, Train Accuracy: {acc:.2f}%')\n",
    "\n",
    "        # Evaluate on test set\n",
    "        correct, total = 0, 0\n",
    "        model.eval()\n",
    "        with torch.no_grad():\n",
    "            for inputs, labels in testloader:\n",
    "                outputs = model(inputs)\n",
    "                _, predicted = torch.max(outputs, 1)\n",
    "                total += labels.size(0)\n",
    "                correct += (predicted == labels).sum().item()\n",
    "        acc = 100 * correct / total\n",
    "        test_acc.append(acc)\n",
    "        print(f'Test Accuracy: {acc:.2f}%')\n",
    "    return train_acc, test_acc"
   ]
  },
  {
   "cell_type": "markdown",
   "metadata": {},
   "source": [
    "## 5. Train and Compare Models"
   ]
  },
  {
   "cell_type": "code",
   "execution_count": null,
   "metadata": {},
   "outputs": [
    {
     "name": "stdout",
     "output_type": "stream",
     "text": [
      "Epoch 1, Train Accuracy: 32.03%\n",
      "Test Accuracy: 35.37%\n",
      "Epoch 2, Train Accuracy: 34.33%\n",
      "Test Accuracy: 34.85%\n"
     ]
    }
   ],
   "source": [
    "# Example: Train Logistic Regression\n",
    "model = LogisticRegression()\n",
    "optimizer = optim.SGD(model.parameters(), lr=0.001, momentum=0.9)\n",
    "criterion = nn.CrossEntropyLoss()\n",
    "train_acc, test_acc = train_model(\n",
    "    model, optimizer, criterion, trainloader, testloader, epochs=10)"
   ]
  },
  {
   "cell_type": "markdown",
   "metadata": {},
   "source": [
    "## 6. Plot Results"
   ]
  },
  {
   "cell_type": "code",
   "execution_count": null,
   "metadata": {},
   "outputs": [],
   "source": [
    "def plot_accuracy(train_acc, test_acc, title='Accuracy vs Epoch'):\n",
    "    plt.figure(figsize=(8,5))\n",
    "    plt.plot(train_acc, label='Train Accuracy')\n",
    "    plt.plot(test_acc, label='Test Accuracy')\n",
    "    plt.xlabel('Epoch')\n",
    "    plt.ylabel('Accuracy (%)')\n",
    "    plt.title(title)\n",
    "    plt.legend()\n",
    "    plt.grid(True)\n",
    "    plt.show()"
   ]
  },
  {
   "cell_type": "markdown",
   "metadata": {},
   "source": [
    "## 7. Train Train and Plot All Models"
   ]
  },
  {
   "cell_type": "code",
   "execution_count": null,
   "metadata": {},
   "outputs": [],
   "source": [
    "# Train FCN with 1 hidden layer\n",
    "model2 = OneHiddenLayerNN(hidden_size=512)\n",
    "optimizer2 = optim.SGD(model2.parameters(), lr=0.001, momentum=0.9)\n",
    "train_acc2, test_acc2 = train_model(model2, optimizer2, criterion, trainloader, testloader)\n",
    "plot_accuracy(train_acc2, test_acc2, title='One Hidden Layer FCN')\n",
    "\n",
    "# Train CNN model\n",
    "model3 = ConvNet(out_channels=100, kernel_size=5, pool_size=14)\n",
    "optimizer3 = optim.SGD(model3.parameters(), lr=0.001, momentum=0.9)\n",
    "train_acc3, test_acc3 = train_model(model3, optimizer3, criterion, trainloader, testloader)\n",
    "plot_accuracy(train_acc3, test_acc3, title='CNN with MaxPool')"
   ]
  },
  {
   "cell_type": "markdown",
   "metadata": {},
   "source": [
    "## Extra Credit "
   ]
  },
  {
   "cell_type": "code",
   "execution_count": null,
   "metadata": {},
   "outputs": [],
   "source": [
    "class TunedCNN(nn.Module):\n",
    "    def __init__(self):\n",
    "        super(TunedCNN, self).__init__()\n",
    "        self.conv1 = nn.Conv2d(3, 64, 3, padding=1)\n",
    "        self.conv2 = nn.Conv2d(64, 128, 3, padding=1)\n",
    "        self.pool = nn.MaxPool2d(2, 2)\n",
    "        self.dropout = nn.Dropout(0.25)\n",
    "        self.fc1 = nn.Linear(128 * 8 * 8, 512)\n",
    "        self.fc2 = nn.Linear(512, 10)\n",
    "\n",
    "    def forward(self, x):\n",
    "        x = self.pool(F.relu(self.conv1(x)))\n",
    "        x = self.pool(F.relu(self.conv2(x)))\n",
    "        x = x.view(-1, 128 * 8 * 8)\n",
    "        x = self.dropout(x)\n",
    "        x = F.relu(self.fc1(x))\n",
    "        x = self.fc2(x)\n",
    "        return x\n",
    "\n",
    "       "
   ]
  },
  {
   "cell_type": "code",
   "execution_count": null,
   "metadata": {},
   "outputs": [],
   "source": [
    "model4 = TunedCNN()\n",
    "optimizer4 = optim.Adam(model4.parameters(), lr=0.001)\n",
    "train_acc4, test_acc4 = train_model(model4, optimizer4, criterion, trainloader, testloader, epochs=20)\n",
    "plot_accuracy(train_acc4, test_acc4, title='Tuned CNN (Extra Credit)')\n"
   ]
  }
 ],
 "metadata": {
  "kernelspec": {
   "display_name": "Python 3 (ipykernel)",
   "language": "python",
   "name": "python3"
  },
  "language_info": {
   "codemirror_mode": {
    "name": "ipython",
    "version": 3
   },
   "file_extension": ".py",
   "mimetype": "text/x-python",
   "name": "python",
   "nbconvert_exporter": "python",
   "pygments_lexer": "ipython3",
   "version": "3.13.2"
  }
 },
 "nbformat": 4,
 "nbformat_minor": 4
}
